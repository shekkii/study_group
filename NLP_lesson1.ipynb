{
 "cells": [
  {
   "cell_type": "code",
   "execution_count": 1,
   "metadata": {},
   "outputs": [],
   "source": [
    "# -*-coding:utf-8 -*-\n",
    "simple_grammar = \"\"\"\n",
    "sentence => noun_phrase verb_phrase\n",
    "noun_phrase => Article Adj* noun\n",
    "Adj* => null | Adj Adj*\n",
    "verb_phrase => verb noun_phrase\n",
    "Article => 一个 | 这个\n",
    "noun => 女人 | 篮球 | 桌子 | 小猫\n",
    "verb => 看着 | 听着 | 看见\n",
    "Adj => 蓝色的 | 好看的 | 小小的 | 年轻的\n",
    "\"\"\""
   ]
  },
  {
   "cell_type": "code",
   "execution_count": 2,
   "metadata": {},
   "outputs": [],
   "source": [
    "import random\n",
    "import pandas as pd\n",
    "import re\n",
    "import jieba"
   ]
  },
  {
   "cell_type": "code",
   "execution_count": 3,
   "metadata": {},
   "outputs": [],
   "source": [
    "def adj():\n",
    "    return random.choice(\"蓝色的 | 好看的 | 小小的 | 年轻的\".split(\" | \"))"
   ]
  },
  {
   "cell_type": "code",
   "execution_count": 4,
   "metadata": {},
   "outputs": [
    {
     "data": {
      "text/plain": [
       "'好看的'"
      ]
     },
     "execution_count": 4,
     "metadata": {},
     "output_type": "execute_result"
    }
   ],
   "source": [
    "adj()"
   ]
  },
  {
   "cell_type": "code",
   "execution_count": 5,
   "metadata": {},
   "outputs": [],
   "source": [
    "def adj_star():\n",
    "    return  random.choice([None,adj()+adj()])"
   ]
  },
  {
   "cell_type": "code",
   "execution_count": 6,
   "metadata": {},
   "outputs": [
    {
     "data": {
      "text/plain": [
       "'年轻的年轻的'"
      ]
     },
     "execution_count": 6,
     "metadata": {},
     "output_type": "execute_result"
    }
   ],
   "source": [
    "adj_star()"
   ]
  },
  {
   "cell_type": "code",
   "execution_count": 7,
   "metadata": {},
   "outputs": [],
   "source": [
    "adj_grammer = \"\"\"\n",
    " Adj* => null | Adj Adj*\n",
    " Adj => 蓝色的 | 好看的 | 小小的 | 年轻的\"\"\"\n",
    "def create_grammar(grammar_str,split = \"=>\"):\n",
    "    grammar = {}\n",
    "    for line in grammar_str.split('\\n'):\n",
    "        if not line.strip():\n",
    "            continue\n",
    "        exp,stmt = line.split(split)\n",
    "        grammar[exp.strip()] = [s.split() for s in stmt.split(\"|\")]\n",
    "    return grammar"
   ]
  },
  {
   "cell_type": "code",
   "execution_count": 8,
   "metadata": {},
   "outputs": [],
   "source": [
    "example_grammar = create_grammar(simple_grammar)"
   ]
  },
  {
   "cell_type": "code",
   "execution_count": 9,
   "metadata": {},
   "outputs": [
    {
     "data": {
      "text/plain": [
       "{'sentence': [['noun_phrase', 'verb_phrase']],\n",
       " 'noun_phrase': [['Article', 'Adj*', 'noun']],\n",
       " 'Adj*': [['null'], ['Adj', 'Adj*']],\n",
       " 'verb_phrase': [['verb', 'noun_phrase']],\n",
       " 'Article': [['一个'], ['这个']],\n",
       " 'noun': [['女人'], ['篮球'], ['桌子'], ['小猫']],\n",
       " 'verb': [['看着'], ['听着'], ['看见']],\n",
       " 'Adj': [['蓝色的'], ['好看的'], ['小小的'], ['年轻的']]}"
      ]
     },
     "execution_count": 9,
     "metadata": {},
     "output_type": "execute_result"
    }
   ],
   "source": [
    "example_grammar"
   ]
  },
  {
   "cell_type": "code",
   "execution_count": 10,
   "metadata": {},
   "outputs": [],
   "source": [
    "def generate(gram,target):\n",
    "    if target in gram :\n",
    "        new_expanded = random.choice(gram[target])\n",
    "        expanded = [generate(gram,t) for t in new_expanded]\n",
    "        return \"\".join(e for e in expanded if e != \"null\")\n",
    "    else :\n",
    "        return target"
   ]
  },
  {
   "cell_type": "code",
   "execution_count": 11,
   "metadata": {},
   "outputs": [
    {
     "data": {
      "text/plain": [
       "'这个篮球听着这个桌子'"
      ]
     },
     "execution_count": 11,
     "metadata": {},
     "output_type": "execute_result"
    }
   ],
   "source": [
    "generate(example_grammar,\"sentence\")"
   ]
  },
  {
   "cell_type": "code",
   "execution_count": 12,
   "metadata": {},
   "outputs": [],
   "source": [
    "human = \"\"\"\n",
    "human = 自己 寻找 活动\n",
    "自己 = 我 | 俺 | 我们 \n",
    "寻找 = 看看 | 找找 | 想找点\n",
    "活动 = 乐子 | 玩的\n",
    "\"\"\"\n",
    "\n",
    "host = \"\"\"\n",
    "host = 寒暄 报数 询问 业务相关 结尾 \n",
    "报数 = 我是 数字 号 ,\n",
    "数字 = 单个数字 | 数字 单个数字 \n",
    "单个数字 = 1 | 2 | 3 | 4 | 5 | 6 | 7 | 8 | 9 \n",
    "寒暄 = 称谓 打招呼 | 打招呼\n",
    "称谓 = 人称 ,\n",
    "人称 = 先生 | 女士 | 小朋友\n",
    "打招呼 = 你好 | 您好 \n",
    "询问 = 请问你要 | 您需要\n",
    "业务相关 = 玩玩 具体业务\n",
    "玩玩 = 耍一耍 | 玩一玩 | null\n",
    "具体业务 = 喝酒 | 打牌 | 打猎 | 赌博\n",
    "结尾 = 吗？\"\"\""
   ]
  },
  {
   "cell_type": "code",
   "execution_count": 13,
   "metadata": {},
   "outputs": [
    {
     "name": "stdout",
     "output_type": "stream",
     "text": [
      "小朋友,您好我是98号,请问你要玩一玩喝酒吗？\n",
      "您好我是878号,您需要打牌吗？\n",
      "小朋友,您好我是1号,您需要喝酒吗？\n",
      "您好我是7号,您需要玩一玩打猎吗？\n",
      "小朋友,您好我是93号,请问你要耍一耍打牌吗？\n"
     ]
    }
   ],
   "source": [
    "for i in range(5):\n",
    "  print(generate(gram =create_grammar(host,split= \"=\") ,target=\"host\"))"
   ]
  },
  {
   "cell_type": "code",
   "execution_count": 14,
   "metadata": {},
   "outputs": [],
   "source": [
    "with open(\"../pyt/article_9k.txt\",encoding='utf-8') as f:\n",
    "    articles = list(map(lambda m: m.strip('\\n'), f.readlines()))"
   ]
  },
  {
   "cell_type": "code",
   "execution_count": 15,
   "metadata": {},
   "outputs": [
    {
     "data": {
      "text/plain": [
       "['此外自本周6月12日起除小米手机6等15款机型外其余机型已暂停更新发布含开发版体验版内测稳定版暂不受影响以确保工程师可以集中全部精力进行系统优化工作有人猜测这也是将精力主要用到MIUI9的研发之中MIUI8去年5月发布距今已有一年有余也是时候更新换代了当然关于MIUI9的确切信息我们还是等待官方消息',\n",
       " '骁龙835作为唯一通过Windows10桌面平台认证的ARM处理器高通强调不会因为只考虑性能而去屏蔽掉小核心相反他们正联手微软找到一种适合桌面平台的兼顾性能和功耗的完美方案报道称微软已经拿到了一些新的源码以便Windows10更好地理解biglittle架构资料显示骁龙835作为一款集成了CPUGPU基带蓝牙WiFi的SoC比传统的Wintel方案可以节省至少30的PCB空间按计划今年Q4华硕惠普联想将首发骁龙835Win10电脑预计均是二合一形态的产品当然高通骁龙只是个开始未来也许还能见到三星Exynos联发科华为麒麟小米澎湃等进入Windows10桌面平台',\n",
       " '此前的一加3T搭载的是3400mAh电池DashCharge快充规格为5V4A至于电池缩水可能与刘作虎所说一加手机5要做市面最轻薄大屏旗舰的设定有关按照目前掌握的资料一加手机5拥有55寸1080P三星AMOLED显示屏6G8GBRAM64GB128GBROM双1600万摄像头备货量惊喜根据京东泄露的信息一加5起售价是xx99元应该是在279928992999中的某个',\n",
       " '这是6月18日在葡萄牙中部大佩德罗冈地区拍摄的被森林大火烧毁的汽车新华社记者张立云摄',\n",
       " '原标题44岁女子跑深圳约会网友被拒暴雨中裸身奔走深圳交警微博称昨日清晨交警发现有一女子赤裸上身行走在南坪快速上期间还起了轻生年头一辅警发现后赶紧为其披上黄衣并一路劝说她那么事发时到底都发生了些什么呢南都记者带您一起还原现场南都记者在龙岗大队坂田中队见到了辅警刘青发现女生的辅警一位外表高大帅气说话略带些腼腆的90后青年刘青介绍6月16日早上7时36分他正在环城南路附近值勤接到中队关于一位女子裸身进入机动车可能有危险的警情随后骑着小铁骑开始沿路寻找大概花了十多分钟在南坪大道坂田出口往龙岗方向的逆行辅道上发现该女子女子身上一丝不挂地逆车流而行时走时停时坐时躺险象环生刘青停好小铁骑和另外一名巡防员追了上去发现女子的情绪很低落话不多刘青尝试和女子交流劝说女子离开可女子并不愿意接受继续缓慢地往南坪快速路的主干道上走去此时路边上已经聚集了很市民围观为了不刺激女子的情绪刘青和巡防员一边盯着女子一边驱赶着围观的群众现场还原从警方提供的一份视频了解到16日早上7时25分女子出现在坂雪岗大道与环城南路的监控视频中此时女子还穿着白色的内裤正沿着坂雪岗大道往南坪快速的方向缓慢地走着当时正值上班高峰期十字路口的车流已经排起了长队当女子出现时路上的市民纷纷驻足观望不少车辆也放慢了速度但女子并不为市民观望停下脚步依然缓慢走着当女子行进到十字路口中间时一辆大货车挡住了镜头但是当女子再次出现镜头时可以发现女子已经没穿内裤了全身裸露继续朝着南坪快速方向走去记者发现视频中女子周围并没有人尾随或者上前劝止的市民一大清早路上看到这样的情况恐怕大家都没办法淡定面对这一情况刘青表示一开始根本不敢看她心里挺别扭感觉很尴尬但当刘青跟随女子上了南坪快速路主干道时女子作出了让人意想不到的举动她突然靠近护栏要从上面跳下去刘青赶忙冲上去拉住了女子的手将其控制住并远离护栏碍于女子没有穿衣服刘青递上衣服女子没接受还把衣服扔到排水沟里继续往前走没办法刘青只能紧紧拉着她的一只手跟在后面刘青一路上耐心地开导安慰她但只听到她不断地重复着一句话要是你也遭遇我的事你也会这样的期间她还不时试图挣脱刘青的手要冲向护栏往下跳就这样我被牵着走了大概十多分钟天突然下起了大暴雨雨大的连眼睛都睁不开刘青继续说着瞬间他们就被雨透了但女子依然不愿意接受刘青的帮助就继续冒着大雨往前走大概走了有四十分钟吧女子突然停下来说我想回家了然后女子也接受了刘青递过来的小黄衣就出现了深圳微博上的照片女子披着小黄衣刘青小心翼翼地在旁边走着的场景从南平快速下来后刘青和巡防员将女子带到了附近的坂田派出所那姑娘到底是遭遇了什么样的事情才会说要是你也遭遇我的事你也会这样据警方透露该女子姓陈系湖北人今年44岁据家属反映其有精神病史三天前陈某从老家来深圳约会网友但约会受挫导致情绪异常女子遂产生轻生念头目前陈某已经被送往深圳某精神病医院进行治疗大大君只希望姑娘能早点康复其实真爱的到来并不存在年龄的限制你们说呢因善良的原因一众网友纷纷为交警暖男点ZAN弓常yan桦就想问这个小哥哥有女票吗原谅我这一辈子浪荡不羁爱萨摩耶有什么过不去的要轻生嘛想想自己的家人同时也感谢交警蜀黍火心聆听心灵点赞交警中華云盾警察警察就是群众最需时申出援手Tomchlee蜀黍帅SJ李赫海i这个交警很暖有木有男子迷奸网友拍418个视频女方从20岁到50岁不等去年6月7号上午淮安市涟水县公安局刑警大队突然接到了一个奇怪的报警电话一名女子言语不清声称自己遭到了侵害女子被侵害言语不清几个关键词令接到电话的民警瞬间紧张起来']"
      ]
     },
     "execution_count": 15,
     "metadata": {},
     "output_type": "execute_result"
    }
   ],
   "source": [
    "articles[:5]"
   ]
  },
  {
   "cell_type": "code",
   "execution_count": 16,
   "metadata": {},
   "outputs": [],
   "source": [
    "from collections import Counter"
   ]
  },
  {
   "cell_type": "code",
   "execution_count": 17,
   "metadata": {},
   "outputs": [
    {
     "data": {
      "text/plain": [
       "89611"
      ]
     },
     "execution_count": 17,
     "metadata": {},
     "output_type": "execute_result"
    }
   ],
   "source": [
    "len(articles)"
   ]
  },
  {
   "cell_type": "code",
   "execution_count": 18,
   "metadata": {},
   "outputs": [],
   "source": [
    "def token(string):\n",
    "    return re.findall(\"\\w+\",string)"
   ]
  },
  {
   "cell_type": "code",
   "execution_count": 19,
   "metadata": {},
   "outputs": [
    {
     "name": "stderr",
     "output_type": "stream",
     "text": [
      "Building prefix dict from the default dictionary ...\n",
      "Loading model from cache C:\\Users\\wu\\AppData\\Local\\Temp\\jieba.cache\n",
      "Loading model cost 0.811 seconds.\n",
      "Prefix dict has been built succesfully.\n"
     ]
    }
   ],
   "source": [
    "with_jieba_cut = Counter(jieba.cut(articles[110]))"
   ]
  },
  {
   "cell_type": "code",
   "execution_count": 20,
   "metadata": {},
   "outputs": [
    {
     "data": {
      "text/plain": [
       "Counter({'在': 10,\n",
       "         '外国名著': 1,\n",
       "         '麦田': 8,\n",
       "         '里': 5,\n",
       "         '的': 73,\n",
       "         '守望者': 2,\n",
       "         '中': 4,\n",
       "         '作者': 2,\n",
       "         '想要': 1,\n",
       "         '守护': 1,\n",
       "         '如': 1,\n",
       "         '自己': 5,\n",
       "         '内心': 1,\n",
       "         '一般': 1,\n",
       "         '纯真': 1,\n",
       "         '孩子': 1,\n",
       "         '们': 18,\n",
       "         '而': 1,\n",
       "         '驻': 5,\n",
       "         '村干部': 2,\n",
       "         '也': 5,\n",
       "         '这个': 2,\n",
       "         '炎热': 2,\n",
       "         '夏天': 1,\n",
       "         '撸': 1,\n",
       "         '袖子': 1,\n",
       "         '上阵': 1,\n",
       "         '真正': 2,\n",
       "         '做起': 1,\n",
       "         '了': 20,\n",
       "         '村民': 15,\n",
       "         '三夏': 1,\n",
       "         '时节': 2,\n",
       "         '不': 3,\n",
       "         '等': 2,\n",
       "         '人': 5,\n",
       "         '你': 1,\n",
       "         '看到': 3,\n",
       "         '吗': 1,\n",
       "         '不停': 1,\n",
       "         '翻涌': 1,\n",
       "         '起伏': 1,\n",
       "         '仿若': 1,\n",
       "         '铺陈': 1,\n",
       "         '至': 1,\n",
       "         '天边': 1,\n",
       "         '金黄': 3,\n",
       "         '麦浪': 1,\n",
       "         '那': 1,\n",
       "         '若隐若现': 1,\n",
       "         '人影': 1,\n",
       "         '是': 6,\n",
       "         '自治区': 9,\n",
       "         '新闻出版': 2,\n",
       "         '广电局': 2,\n",
       "         '和田市': 1,\n",
       "         '肖': 1,\n",
       "         '尔巴': 1,\n",
       "         '格乡': 1,\n",
       "         '合尼村': 1,\n",
       "         '工作队': 16,\n",
       "         '队员': 8,\n",
       "         '与': 3,\n",
       "         '组织': 2,\n",
       "         '青年': 3,\n",
       "         '志愿者': 5,\n",
       "         '夏季': 1,\n",
       "         '他们': 1,\n",
       "         '深入': 1,\n",
       "         '田间': 2,\n",
       "         '地头': 2,\n",
       "         '帮助': 5,\n",
       "         '收割': 14,\n",
       "         '小麦': 8,\n",
       "         '扛起': 1,\n",
       "         '收麦': 1,\n",
       "         '机': 2,\n",
       "         '每个': 2,\n",
       "         '都': 5,\n",
       "         '显得': 1,\n",
       "         '兴致勃勃': 1,\n",
       "         '一天': 1,\n",
       "         '下来': 1,\n",
       "         '就近': 1,\n",
       "         '22': 1,\n",
       "         '亩': 1,\n",
       "         '完毕': 1,\n",
       "         '麦麦': 1,\n",
       "         '提亚森': 1,\n",
       "         '擦': 1,\n",
       "         '去': 2,\n",
       "         '满脸': 1,\n",
       "         '汗水': 2,\n",
       "         '高兴': 1,\n",
       "         '地': 5,\n",
       "         '告诉': 1,\n",
       "         '驻村': 7,\n",
       "         '我们': 4,\n",
       "         '应该': 2,\n",
       "         '多': 1,\n",
       "         '做': 1,\n",
       "         '贡献': 1,\n",
       "         '为': 2,\n",
       "         '村里': 4,\n",
       "         '脱贫致富': 1,\n",
       "         '出把力': 1,\n",
       "         '带': 1,\n",
       "         '着': 7,\n",
       "         '老人': 2,\n",
       "         '服务': 1,\n",
       "         '那些': 1,\n",
       "         '像': 1,\n",
       "         '我': 2,\n",
       "         '爷爷奶奶': 1,\n",
       "         '一样': 1,\n",
       "         '赞许': 1,\n",
       "         '感谢': 1,\n",
       "         '目光': 1,\n",
       "         '体会': 1,\n",
       "         '到': 6,\n",
       "         '他人': 1,\n",
       "         '快乐': 1,\n",
       "         '孙敏': 1,\n",
       "         '艾力': 1,\n",
       "         '依': 1,\n",
       "         '布拉': 1,\n",
       "         '音': 1,\n",
       "         '麦收': 4,\n",
       "         '一起': 3,\n",
       "         '6': 6,\n",
       "         '月': 4,\n",
       "         '中旬': 1,\n",
       "         '和田': 1,\n",
       "         '墨玉': 1,\n",
       "         '静待': 1,\n",
       "         '14': 1,\n",
       "         '日': 4,\n",
       "         '15': 2,\n",
       "         '两天': 1,\n",
       "         '高级人民法院': 2,\n",
       "         '和田地区': 2,\n",
       "         '墨玉县': 1,\n",
       "         '吐外': 1,\n",
       "         '特乡': 1,\n",
       "         '罕': 2,\n",
       "         '勒克': 2,\n",
       "         '艾日克村': 2,\n",
       "         '48': 1,\n",
       "         '名': 1,\n",
       "         '一道': 2,\n",
       "         '29': 1,\n",
       "         '户有': 1,\n",
       "         '需要': 1,\n",
       "         '进行': 2,\n",
       "         '工作': 4,\n",
       "         '志愿队': 2,\n",
       "         '红旗': 1,\n",
       "         '迎风': 1,\n",
       "         '飘扬': 1,\n",
       "         '格外': 1,\n",
       "         '醒目': 1,\n",
       "         '10': 1,\n",
       "         '余台': 1,\n",
       "         '割麦': 2,\n",
       "         '轰鸣': 1,\n",
       "         '男人': 1,\n",
       "         '用': 2,\n",
       "         '机器': 1,\n",
       "         '同时': 1,\n",
       "         '几名': 1,\n",
       "         '妇女': 1,\n",
       "         '加入': 1,\n",
       "         '构成': 1,\n",
       "         '美丽': 1,\n",
       "         '风景': 1,\n",
       "         '休息': 1,\n",
       "         '空闲': 1,\n",
       "         '和': 7,\n",
       "         '坐在': 1,\n",
       "         '树荫下': 1,\n",
       "         '田埂': 1,\n",
       "         '上': 3,\n",
       "         '互相': 1,\n",
       "         '问好': 1,\n",
       "         '聊天': 2,\n",
       "         '语言': 1,\n",
       "         '交流': 2,\n",
       "         '有': 4,\n",
       "         '困难': 1,\n",
       "         '就': 4,\n",
       "         '手势': 1,\n",
       "         '动作': 1,\n",
       "         '比划': 1,\n",
       "         '有趣': 1,\n",
       "         '方式': 1,\n",
       "         '不时': 1,\n",
       "         '引来': 1,\n",
       "         '阵阵': 1,\n",
       "         '欢笑': 1,\n",
       "         '大家': 5,\n",
       "         '一同': 2,\n",
       "         '享受': 1,\n",
       "         '丰收': 1,\n",
       "         '喜悦': 2,\n",
       "         '增进': 1,\n",
       "         '彼此': 1,\n",
       "         '情感': 1,\n",
       "         '友谊': 1,\n",
       "         '周春梅': 1,\n",
       "         '艾地': 1,\n",
       "         '艾木': 1,\n",
       "         '阿不拉': 1,\n",
       "         '细看': 1,\n",
       "         '稻菽': 1,\n",
       "         '千重': 1,\n",
       "         '浪': 1,\n",
       "         '煤田': 2,\n",
       "         '灭火': 2,\n",
       "         '工程局': 2,\n",
       "         '干部职工': 1,\n",
       "         '再': 2,\n",
       "         '一次': 1,\n",
       "         '跋涉': 1,\n",
       "         '1000': 1,\n",
       "         '多公里': 1,\n",
       "         '来到': 1,\n",
       "         '叶城县': 1,\n",
       "         '萨依': 1,\n",
       "         '巴格': 1,\n",
       "         '乡': 2,\n",
       "         '阿亚': 1,\n",
       "         '格': 1,\n",
       "         '欧尔': 1,\n",
       "         '达': 1,\n",
       "         '贝格': 1,\n",
       "         '村': 3,\n",
       "         '见到': 1,\n",
       "         '亲戚': 2,\n",
       "         '现场': 1,\n",
       "         '处处': 1,\n",
       "         '透出': 1,\n",
       "         '掩盖': 1,\n",
       "         '不住': 1,\n",
       "         '一声声': 1,\n",
       "         '亲切': 1,\n",
       "         '谢谢': 1,\n",
       "         '一个个': 1,\n",
       "         '结实': 1,\n",
       "         '拥抱': 1,\n",
       "         '透露': 1,\n",
       "         '出': 1,\n",
       "         '浓浓的': 1,\n",
       "         '亲情': 1,\n",
       "         '没': 1,\n",
       "         '坐': 1,\n",
       "         '一会儿': 1,\n",
       "         '嘘寒问暖': 1,\n",
       "         '了解': 1,\n",
       "         '关键时刻': 1,\n",
       "         '部分': 2,\n",
       "         '家中': 1,\n",
       "         '却': 2,\n",
       "         '存在': 1,\n",
       "         '难': 1,\n",
       "         '问题': 1,\n",
       "         '成熟期': 1,\n",
       "         '短': 1,\n",
       "         '收获': 2,\n",
       "         '时间': 1,\n",
       "         '集中': 1,\n",
       "         '天气': 2,\n",
       "         '变化': 1,\n",
       "         '对': 2,\n",
       "         '最终': 1,\n",
       "         '产量': 1,\n",
       "         '影响': 1,\n",
       "         '极大': 1,\n",
       "         '如果': 1,\n",
       "         '不能': 1,\n",
       "         '及时': 2,\n",
       "         '会': 2,\n",
       "         '不小': 1,\n",
       "         '损失': 1,\n",
       "         '于是': 1,\n",
       "         '几乎': 1,\n",
       "         '立刻': 1,\n",
       "         '决定': 1,\n",
       "         '要': 1,\n",
       "         '麦子': 7,\n",
       "         '茂密': 1,\n",
       "         '麦地': 1,\n",
       "         '干部': 1,\n",
       "         '每人': 1,\n",
       "         '手持': 1,\n",
       "         '一把': 2,\n",
       "         '镰刀': 6,\n",
       "         '一字排开': 1,\n",
       "         '挽起': 1,\n",
       "         '衣袖': 1,\n",
       "         '卷起': 1,\n",
       "         '裤腿': 1,\n",
       "         '挥舞': 2,\n",
       "         '无声': 1,\n",
       "         '竞赛': 1,\n",
       "         '骄阳似火': 1,\n",
       "         '汗如雨下': 1,\n",
       "         '但': 1,\n",
       "         '这': 2,\n",
       "         '挡不住': 1,\n",
       "         '热情': 1,\n",
       "         '随着': 1,\n",
       "         '此起彼伏': 1,\n",
       "         '割倒': 1,\n",
       "         '刷刷': 1,\n",
       "         '声响': 1,\n",
       "         '不一会': 1,\n",
       "         '一束': 1,\n",
       "         '束': 1,\n",
       "         '沉甸甸': 1,\n",
       "         '麦穗': 3,\n",
       "         '被': 2,\n",
       "         '整齐': 1,\n",
       "         '堆放': 1,\n",
       "         '起来': 1,\n",
       "         '当': 1,\n",
       "         '亲手': 1,\n",
       "         '金黄色': 1,\n",
       "         '一簇簇': 1,\n",
       "         '打成': 1,\n",
       "         '捆': 1,\n",
       "         '运送': 1,\n",
       "         '晒场': 1,\n",
       "         '脸上': 1,\n",
       "         '露出': 1,\n",
       "         '灿烂': 1,\n",
       "         '笑容': 1,\n",
       "         '马浩南': 1,\n",
       "         '一个': 2,\n",
       "         '多多': 1,\n",
       "         '季节': 1,\n",
       "         '13': 1,\n",
       "         '清晨': 1,\n",
       "         '时许': 1,\n",
       "         '民丰县': 2,\n",
       "         '若雅乡': 1,\n",
       "         '特开': 1,\n",
       "         '墩': 1,\n",
       "         '已经': 3,\n",
       "         '传来': 1,\n",
       "         '马达': 1,\n",
       "         '轰鸣声': 1,\n",
       "         '原来': 1,\n",
       "         '质监局': 3,\n",
       "         '趁着': 1,\n",
       "         '尚且': 1,\n",
       "         '凉爽': 1,\n",
       "         '开始': 3,\n",
       "         '忙碌': 1,\n",
       "         '间隙': 1,\n",
       "         '队伍': 1,\n",
       "         '搬': 1,\n",
       "         '来': 2,\n",
       "         '清凉': 1,\n",
       "         '水': 1,\n",
       "         '拎': 1,\n",
       "         '鲜甜': 1,\n",
       "         '西瓜': 2,\n",
       "         '抹': 1,\n",
       "         '吃': 1,\n",
       "         '一牙': 1,\n",
       "         '甜蜜': 1,\n",
       "         '汁水': 1,\n",
       "         '似乎': 1,\n",
       "         '流进': 1,\n",
       "         '每': 1,\n",
       "         '心里': 1,\n",
       "         '说起': 1,\n",
       "         '割': 4,\n",
       "         '对于': 2,\n",
       "         '生活': 1,\n",
       "         '这片': 1,\n",
       "         '土地': 1,\n",
       "         '来说': 2,\n",
       "         '平常': 1,\n",
       "         '不过': 2,\n",
       "         '事': 1,\n",
       "         '但是': 1,\n",
       "         '却是': 1,\n",
       "         '陌生': 1,\n",
       "         '若': 1,\n",
       "         '克雅': 1,\n",
       "         '乡博斯坦村': 1,\n",
       "         '一': 2,\n",
       "         '觉得': 1,\n",
       "         '十几个': 1,\n",
       "         '二亩': 1,\n",
       "         '挺快': 1,\n",
       "         '结果': 1,\n",
       "         '一点': 1,\n",
       "         '简单': 1,\n",
       "         '拿到': 1,\n",
       "         '手里': 1,\n",
       "         '割起来': 1,\n",
       "         '考验': 1,\n",
       "         '才': 1,\n",
       "         '弓着腰': 1,\n",
       "         '弯': 1,\n",
       "         '腿': 1,\n",
       "         '亦步亦趋': 1,\n",
       "         '手上': 1,\n",
       "         '时刻': 1,\n",
       "         '注意': 1,\n",
       "         '不要': 3,\n",
       "         '让': 1,\n",
       "         '脚下': 1,\n",
       "         '还要': 1,\n",
       "         '留心': 1,\n",
       "         '把': 1,\n",
       "         '套种': 1,\n",
       "         '玉米': 1,\n",
       "         '苗': 1,\n",
       "         '踩': 1,\n",
       "         '伤': 1,\n",
       "         '不一会儿': 1,\n",
       "         '汗流浃背': 1,\n",
       "         '抬头': 1,\n",
       "         '看看': 1,\n",
       "         '身边': 1,\n",
       "         '早就': 2,\n",
       "         '远远地': 1,\n",
       "         '前面': 1,\n",
       "         '只有': 1,\n",
       "         '今年': 1,\n",
       "         '56': 1,\n",
       "         '岁': 1,\n",
       "         '队长': 1,\n",
       "         '李树刚': 2,\n",
       "         '经验': 1,\n",
       "         '多少': 1,\n",
       "         '给': 1,\n",
       "         '挽回': 1,\n",
       "         '些': 1,\n",
       "         '面子': 1,\n",
       "         '赶不上': 1,\n",
       "         '速度': 2,\n",
       "         '更': 1,\n",
       "         '说': 2,\n",
       "         '搞定': 1,\n",
       "         '收割机': 2,\n",
       "         '这台': 1,\n",
       "         '大家伙': 1,\n",
       "         '现代化': 1,\n",
       "         '机械': 1,\n",
       "         '能': 2,\n",
       "         '成倍': 1,\n",
       "         '提升': 1,\n",
       "         '这样': 1,\n",
       "         '体验': 2,\n",
       "         '拉近': 2,\n",
       "         '距离': 1,\n",
       "         '很': 1,\n",
       "         '难得': 1,\n",
       "         '王辉': 1,\n",
       "         '马君刚': 1,\n",
       "         '守护者': 1,\n",
       "         '为了': 1,\n",
       "         '应对': 1,\n",
       "         '新疆': 2,\n",
       "         '银监局': 2,\n",
       "         '和田县': 1,\n",
       "         '塔瓦': 1,\n",
       "         '库勒': 1,\n",
       "         '先': 1,\n",
       "         '巴扎': 1,\n",
       "         '从': 1,\n",
       "         '经济': 1,\n",
       "         '支援': 2,\n",
       "         '人力': 1,\n",
       "         '两': 1,\n",
       "         '方面': 1,\n",
       "         '做好': 1,\n",
       "         '准备': 1,\n",
       "         '一方面': 1,\n",
       "         '帮': 1,\n",
       "         '购入': 1,\n",
       "         '5': 1,\n",
       "         '台': 1,\n",
       "         '另一边': 1,\n",
       "         '还': 1,\n",
       "         '团员': 1,\n",
       "         '组成': 1,\n",
       "         '支': 1,\n",
       "         '近百人': 1,\n",
       "         '先锋': 1,\n",
       "         '突击队': 1,\n",
       "         '抢收': 1,\n",
       "         '看着': 1,\n",
       "         '归仓': 1,\n",
       "         '喜得': 1,\n",
       "         '合不拢嘴': 1,\n",
       "         '纷纷': 1,\n",
       "         '摘下': 1,\n",
       "         '自家': 1,\n",
       "         '杏树': 1,\n",
       "         '杏子': 3,\n",
       "         '送给': 1,\n",
       "         '温暖': 2,\n",
       "         '心': 3,\n",
       "         '香甜': 1,\n",
       "         '加': 1,\n",
       "         '王': 1,\n",
       "         '继发': 1,\n",
       "         '免责': 1,\n",
       "         '声明': 1,\n",
       "         '本文': 2,\n",
       "         '仅': 1,\n",
       "         '代表': 1,\n",
       "         '个人观点': 1,\n",
       "         '环球网': 1,\n",
       "         '无关': 1,\n",
       "         '其': 1,\n",
       "         '原创性': 1,\n",
       "         '以及': 2,\n",
       "         '文中': 1,\n",
       "         '陈述': 1,\n",
       "         '文字': 2,\n",
       "         '内容': 3,\n",
       "         '未经': 1,\n",
       "         '本站': 2,\n",
       "         '证实': 1,\n",
       "         '其中': 1,\n",
       "         '全部': 1,\n",
       "         '或者': 1,\n",
       "         '真实性': 1,\n",
       "         '完整性': 1,\n",
       "         '及时性': 1,\n",
       "         '作': 1,\n",
       "         '任何': 1,\n",
       "         '保证': 1,\n",
       "         '或': 1,\n",
       "         '承诺': 1,\n",
       "         '请': 2,\n",
       "         '读者': 1,\n",
       "         '仅作': 1,\n",
       "         '参考': 1,\n",
       "         '并': 1,\n",
       "         '自行': 1,\n",
       "         '核实': 1,\n",
       "         '相关': 1})"
      ]
     },
     "execution_count": 20,
     "metadata": {},
     "output_type": "execute_result"
    }
   ],
   "source": [
    "with_jieba_cut"
   ]
  },
  {
   "cell_type": "code",
   "execution_count": 21,
   "metadata": {
    "scrolled": true
   },
   "outputs": [
    {
     "name": "stdout",
     "output_type": "stream",
     "text": [
      "[('的', 73), ('了', 20), ('们', 18), ('工作队', 16), ('村民', 15), ('收割', 14), ('在', 10), ('自治区', 9), ('麦田', 8), ('队员', 8)]\n"
     ]
    }
   ],
   "source": [
    "print(with_jieba_cut.most_common()[:10])"
   ]
  },
  {
   "cell_type": "code",
   "execution_count": 22,
   "metadata": {},
   "outputs": [],
   "source": [
    "def cut(string): return list(jieba.cut(string))"
   ]
  },
  {
   "cell_type": "code",
   "execution_count": 23,
   "metadata": {},
   "outputs": [],
   "source": [
    "TOKEN = []"
   ]
  },
  {
   "cell_type": "code",
   "execution_count": 24,
   "metadata": {},
   "outputs": [],
   "source": [
    "for line in articles[:30000]:\n",
    "    TOKEN += cut(line)"
   ]
  },
  {
   "cell_type": "code",
   "execution_count": 25,
   "metadata": {},
   "outputs": [],
   "source": [
    "words_count = Counter(TOKEN)"
   ]
  },
  {
   "cell_type": "code",
   "execution_count": 26,
   "metadata": {},
   "outputs": [
    {
     "data": {
      "text/plain": [
       "[('的', 302317),\n",
       " ('在', 97947),\n",
       " ('n', 89995),\n",
       " ('月', 59747),\n",
       " ('了', 55915),\n",
       " ('和', 54503),\n",
       " ('日', 50152),\n",
       " ('是', 46767),\n",
       " ('年', 40874),\n",
       " ('新华社', 34039),\n",
       " ('中', 26516),\n",
       " ('将', 25136),\n",
       " ('为', 24426),\n",
       " ('等', 24322),\n",
       " ('中国', 23550),\n",
       " ('也', 23403),\n",
       " ('１', 23199),\n",
       " ('与', 22734),\n",
       " ('4', 22722),\n",
       " ('对', 22262),\n",
       " ('有', 22192),\n",
       " ('０', 21187),\n",
       " ('外代', 20812),\n",
       " ('记者', 18916),\n",
       " ('上', 18873),\n",
       " ('2017', 18264),\n",
       " ('２', 15976),\n",
       " ('他', 15756),\n",
       " ('二线', 15647),\n",
       " ('发展', 15293),\n",
       " ('不', 14553),\n",
       " ('说', 14356),\n",
       " ('都', 13657),\n",
       " ('6', 13623),\n",
       " ('以', 13272),\n",
       " ('到', 13244),\n",
       " ('照片', 12976),\n",
       " ('就', 12864),\n",
       " ('人', 12682),\n",
       " ('企业', 12388),\n",
       " ('从', 12314),\n",
       " ('被', 12076),\n",
       " ('并', 12034),\n",
       " ('后', 11915),\n",
       " ('但', 11600),\n",
       " ('这', 11598),\n",
       " ('3', 11463),\n",
       " ('市场', 10761),\n",
       " ('３', 10324),\n",
       " ('表示', 10312)]"
      ]
     },
     "execution_count": 26,
     "metadata": {},
     "output_type": "execute_result"
    }
   ],
   "source": [
    "words_count.most_common(50)"
   ]
  },
  {
   "cell_type": "code",
   "execution_count": 27,
   "metadata": {},
   "outputs": [],
   "source": [
    "def prob_1(word):\n",
    "    return words_count[word] / len(TOKEN)"
   ]
  },
  {
   "cell_type": "code",
   "execution_count": 28,
   "metadata": {},
   "outputs": [
    {
     "data": {
      "text/plain": [
       "0.001304507141255499"
      ]
     },
     "execution_count": 28,
     "metadata": {},
     "output_type": "execute_result"
    }
   ],
   "source": [
    "prob_1(\"我们\")"
   ]
  },
  {
   "cell_type": "code",
   "execution_count": 29,
   "metadata": {},
   "outputs": [
    {
     "data": {
      "text/plain": [
       "0.004898953947616497"
      ]
     },
     "execution_count": 29,
     "metadata": {},
     "output_type": "execute_result"
    }
   ],
   "source": [
    "prob_1(\"新华社\")"
   ]
  },
  {
   "cell_type": "code",
   "execution_count": 30,
   "metadata": {},
   "outputs": [
    {
     "data": {
      "text/plain": [
       "['此外', '自', '本周', '6', '月', '12', '日起', '除', '小米', '手机']"
      ]
     },
     "execution_count": 30,
     "metadata": {},
     "output_type": "execute_result"
    }
   ],
   "source": [
    "TOKEN[:10]"
   ]
  },
  {
   "cell_type": "code",
   "execution_count": 31,
   "metadata": {},
   "outputs": [],
   "source": [
    "TOKEN = [str(t) for t in TOKEN]"
   ]
  },
  {
   "cell_type": "code",
   "execution_count": 32,
   "metadata": {},
   "outputs": [],
   "source": [
    "TOKEN_2gram = [\"\".join(TOKEN[i:i+2]) for i in range(len(TOKEN)-2)]"
   ]
  },
  {
   "cell_type": "code",
   "execution_count": 33,
   "metadata": {},
   "outputs": [
    {
     "data": {
      "text/plain": [
       "['此外自', '自本周', '本周6', '6月', '月12', '12日起', '日起除', '除小米', '小米手机', '手机6']"
      ]
     },
     "execution_count": 33,
     "metadata": {},
     "output_type": "execute_result"
    }
   ],
   "source": [
    "TOKEN_2gram[:10]"
   ]
  },
  {
   "cell_type": "code",
   "execution_count": 34,
   "metadata": {},
   "outputs": [],
   "source": [
    "def prob_2(word1, word2,language_model = TOKEN_2gram):\n",
    "    words_count_2 = Counter(language_model)\n",
    "    if word1 + word2 in words_count_2: return words_count_2[word1+word2] / len(language_model)\n",
    "    else:\n",
    "        return 1 / len(language_model)"
   ]
  },
  {
   "cell_type": "code",
   "execution_count": 35,
   "metadata": {},
   "outputs": [
    {
     "data": {
      "text/plain": [
       "7.196091773773297e-07"
      ]
     },
     "execution_count": 35,
     "metadata": {},
     "output_type": "execute_result"
    }
   ],
   "source": [
    "prob_2(\"我们\",\"吃\")"
   ]
  },
  {
   "cell_type": "code",
   "execution_count": 36,
   "metadata": {},
   "outputs": [
    {
     "data": {
      "text/plain": [
       "1.4392183547546592e-07"
      ]
     },
     "execution_count": 36,
     "metadata": {},
     "output_type": "execute_result"
    }
   ],
   "source": [
    "prob_2(\"在\",\"吃饭\")"
   ]
  },
  {
   "cell_type": "code",
   "execution_count": 42,
   "metadata": {},
   "outputs": [],
   "source": [
    "def get_probablity(sentence,language_model = TOKEN_2gram):\n",
    "    words = cut(sentence)\n",
    "    \n",
    "    sentence_pro = 1\n",
    "    \n",
    "    for i, word in enumerate(words[:-1]):\n",
    "        next_word = words[i+1]\n",
    "        \n",
    "        probability = prob_2(word, next_word,language_model)\n",
    "        \n",
    "        sentence_pro *= probability\n",
    "    \n",
    "    return sentence_pro"
   ]
  },
  {
   "cell_type": "code",
   "execution_count": 43,
   "metadata": {},
   "outputs": [
    {
     "data": {
      "text/plain": [
       "8.926204623641021e-38"
      ]
     },
     "execution_count": 43,
     "metadata": {},
     "output_type": "execute_result"
    }
   ],
   "source": [
    "get_probablity(\"小明今天中了一台苹果手机\")"
   ]
  },
  {
   "cell_type": "code",
   "execution_count": 44,
   "metadata": {},
   "outputs": [
    {
     "data": {
      "text/plain": [
       "2.000683799524404e-32"
      ]
     },
     "execution_count": 44,
     "metadata": {},
     "output_type": "execute_result"
    }
   ],
   "source": [
    "get_probablity(\"小明今天中了一台电视机\")"
   ]
  },
  {
   "cell_type": "code",
   "execution_count": 45,
   "metadata": {},
   "outputs": [
    {
     "data": {
      "text/plain": [
       "9.118166013396742e-39"
      ]
     },
     "execution_count": 45,
     "metadata": {},
     "output_type": "execute_result"
    }
   ],
   "source": [
    "get_probablity(\"小明今天中了一架播音飞机\")"
   ]
  },
  {
   "cell_type": "code",
   "execution_count": 46,
   "metadata": {},
   "outputs": [
    {
     "name": "stdout",
     "output_type": "stream",
     "text": [
      "sentence:先生,您好我是7号,请问你要喝酒吗？ witn prb:4.457213843527173e-82\n",
      "sentence:您好我是4243号,您需要打牌吗？ witn prb:1.0638272088139709e-66\n",
      "sentence:女士,您好我是4号,您需要耍一耍赌博吗？ witn prb:1.4605883366736955e-91\n",
      "sentence:小朋友,你好我是95号,请问你要玩一玩打牌吗？ witn prb:2.8851398576046665e-97\n",
      "sentence:您好我是21号,您需要耍一耍喝酒吗？ witn prb:7.492096955135603e-79\n"
     ]
    }
   ],
   "source": [
    "for sentence_ in [generate(gram =create_grammar(host,split= \"=\") ,target=\"host\") for i in range(5)]:\n",
    "    print(\"sentence:{} witn prb:{}\".format(sentence_,get_probablity(sentence_)) )"
   ]
  },
  {
   "cell_type": "code",
   "execution_count": 47,
   "metadata": {},
   "outputs": [
    {
     "name": "stdout",
     "output_type": "stream",
     "text": [
      "今天晚上请你吃大餐，我们一起吃日料 is more possible\n",
      "---- 今天晚上请你吃大餐，我们一起吃日料 with probility 2.5367131379202825e-64\n",
      "---- 明天晚上请你吃大餐，我们一起吃苹果 with probility 1.902534853440212e-64\n",
      "真是一只好看的小猫 is more possible\n",
      "---- 真事一只好看的小猫 with probility 8.027434998091744e-34\n",
      "---- 真是一只好看的小猫 with probility 5.5776352292701035e-27\n",
      "今晚我去吃火锅 is more possible\n",
      "---- 今晚我去吃火锅 with probility 3.3388590817876607e-19\n",
      "---- 今晚火锅去吃我 with probility 1.5445759096440286e-26\n",
      "养乐多绿来一杯 is more possible\n",
      "---- 洋葱奶昔来一杯 with probility 2.9811241801675538e-21\n",
      "---- 养乐多绿来一杯 with probility 2.071349472662708e-14\n"
     ]
    }
   ],
   "source": [
    "need_compared = [\n",
    "    \"今天晚上请你吃大餐，我们一起吃日料 明天晚上请你吃大餐，我们一起吃苹果\",\n",
    "    \"真事一只好看的小猫 真是一只好看的小猫\",\n",
    "    \"今晚我去吃火锅 今晚火锅去吃我\",\n",
    "    \"洋葱奶昔来一杯 养乐多绿来一杯\"\n",
    "]\n",
    "\n",
    "for s in need_compared:\n",
    "    s1, s2 = s.split()\n",
    "    p1, p2 = get_probablity(s1), get_probablity(s2)\n",
    "    \n",
    "    better = s1 if p1 > p2 else s2\n",
    "    \n",
    "    print('{} is more possible'.format(better))\n",
    "    print('-'*4 + ' {} with probility {}'.format(s1, p1))\n",
    "    print('-'*4 + ' {} with probility {}'.format(s2, p2))"
   ]
  },
  {
   "cell_type": "markdown",
   "metadata": {},
   "source": [
    "基础理论部分\n",
    "0. Can you come up out 3 sceneraies which use AI methods?\n",
    "Ans: 无人驾驶，自动应答机器人，语音搜索和输入。\n",
    "\n",
    "1. How do we use Github; Why do we use Jupyter and Pycharm;\n",
    "Ans: 注册GitHub账号，新建仓库，安装git，git add,git commit -m,it remote add origin+自己的地址，最后git push -u origin master上传\n",
    "Jupyter 可以随时检查代码运行的情况，以及哪里语法出了问题，十分方便。\n",
    "Pycharm功能非常多，并且开发的时候十分稳定。\n",
    "\n",
    "2. What's the Probability Model?\n",
    "Ans:概率模型指的是用来描述不同的随机变量之间关系的数学模型，通常是描述了多个随机变量之间的概率关系。\n",
    "\n",
    "3. Can you came up with some sceneraies at which we could use Probability Model?\n",
    "Ans:玩扑克牌相关游戏的时候，会使用概率模型计算牌的可能性。\n",
    "\n",
    "4. Why do we use probability and what's the difficult points for programming based on parsing and pattern match?\n",
    "Ans:概率可以直观的用数据去体现几个词之间搭配的合理性，如果用基于解析和模式匹配的模型的话，\n",
    "每次都可能需要重新规划语法，十分麻烦。\n",
    "\n",
    "5. What's the Language Model;\n",
    "Ans:语言模型就是通过计算句子存在的概率，来判定这句话是否合理的模型。\n",
    "\n",
    "6. Can you came up with some sceneraies at which we could use Language Model?\n",
    "Ans:自动应答机器人，语音识别。\n",
    "\n",
    "7. What's the 1-gram language model;\n",
    "Ans:就是假设sentence中的每个单词w1,w2...wn，都只与自己相关，则该句子的可能性就是P(w1,w2,...wn)=P(w1)*P(w2)*...*P(wn)\n",
    "\n",
    "8. What's the disadvantages and advantages of 1-gram language model;\n",
    "Ans:因为每个词都只与自己相关，所以它的模型容易建造，缺点是这么计算的话，与大多数情况都不符，因为句子中的词大多都会或多或少\n",
    "相互关联，这样计算的偏差会很大。\n",
    "\n",
    "9. What't the 2-gram models;\n",
    "Ans:就是将sentence中的每相邻的两个词作为一组，从而去计算每组词出现的概率，通过词组计算句子的可能性。\n"
   ]
  },
  {
   "cell_type": "markdown",
   "metadata": {},
   "source": [
    "### 编程实践部分\n",
    "1. 设计你自己的句子生成器"
   ]
  },
  {
   "cell_type": "code",
   "execution_count": 48,
   "metadata": {},
   "outputs": [],
   "source": [
    "student = \"\"\"\n",
    "student = 寒暄 介绍 来自 专业 程度副词 爱好 结尾 \n",
    "寒暄 = 称谓 打招呼 | 打招呼\n",
    "打招呼 = 大家早上好, | 大家下午好, \n",
    "称谓 = 人称 ,\n",
    "人称 = 老师们 | 同学们\n",
    "介绍 = 我是 人名  ,\n",
    "人名 = aab | abb | xxx | xx\n",
    "专业 = 应用数学专业, | 城乡规划专业 ,|建筑学专业,\n",
    "程度副词 = null | 非常 | 有点 \n",
    "爱好 = 喜欢 具体爱好 ,\n",
    "具体爱好 = 喝酒 | 打牌 | 打游戏 | 运动\n",
    "结尾 = 可以认识一下大家吗？ | 现在我要加入这个大家庭。\"\"\""
   ]
  },
  {
   "cell_type": "code",
   "execution_count": 49,
   "metadata": {},
   "outputs": [
    {
     "name": "stdout",
     "output_type": "stream",
     "text": [
      "老师们,大家下午好,我是xxx,来自应用数学专业,非常喜欢喝酒,可以认识一下大家吗？\n",
      "同学们,大家下午好,我是aab,来自应用数学专业,有点喜欢喝酒,现在我要加入这个大家庭。\n",
      "大家下午好,我是aab,来自应用数学专业,非常喜欢打牌,可以认识一下大家吗？\n",
      "老师们,大家早上好,我是abb,来自城乡规划专业,非常喜欢喝酒,可以认识一下大家吗？\n",
      "同学们,大家下午好,我是aab,来自建筑学专业,非常喜欢打游戏,现在我要加入这个大家庭。\n"
     ]
    }
   ],
   "source": [
    "for i in range(5):\n",
    "  print(generate(gram = create_grammar(student,split = \"=\") ,target = \"student\"))"
   ]
  },
  {
   "cell_type": "code",
   "execution_count": 50,
   "metadata": {},
   "outputs": [],
   "source": [
    "def generate_n(gram,target,n):\n",
    "    TOKEN_1=[]\n",
    "    for i in range(n):\n",
    "      TOKEN_1.append(generate(gram,target))\n",
    "    return TOKEN_1"
   ]
  },
  {
   "cell_type": "code",
   "execution_count": 51,
   "metadata": {},
   "outputs": [
    {
     "data": {
      "text/plain": [
       "['老师们,大家下午好,我是xxx,来自建筑学专业,喜欢运动,可以认识一下大家吗？',\n",
       " '大家早上好,我是aab,来自城乡规划专业,喜欢运动,可以认识一下大家吗？',\n",
       " '大家下午好,我是aab,来自应用数学专业,喜欢喝酒,可以认识一下大家吗？',\n",
       " '大家下午好,我是xxx,来自建筑学专业,喜欢喝酒,可以认识一下大家吗？',\n",
       " '同学们,大家早上好,我是xx,来自建筑学专业,非常喜欢运动,可以认识一下大家吗？']"
      ]
     },
     "execution_count": 51,
     "metadata": {},
     "output_type": "execute_result"
    }
   ],
   "source": [
    "generate_n(gram = create_grammar(student,split = \"=\") ,target = \"student\",n=5)"
   ]
  },
  {
   "cell_type": "markdown",
   "metadata": {},
   "source": [
    "2.2.2 使用新数据源完成语言模型的训练"
   ]
  },
  {
   "cell_type": "code",
   "execution_count": 52,
   "metadata": {},
   "outputs": [],
   "source": [
    "with open(\"../pyt/train.txt\",encoding='utf-8') as f:\n",
    "    new = list(map(lambda m: m.strip('\\n'), f.readlines()))"
   ]
  },
  {
   "cell_type": "code",
   "execution_count": 53,
   "metadata": {},
   "outputs": [],
   "source": [
    "def is_chinese(uchar):\n",
    "    if uchar >= u'\\u4e00' and uchar <= u'\\u9fa5':\n",
    "        return True\n",
    "    else:\n",
    "        return False #判断是否为汉字"
   ]
  },
  {
   "cell_type": "code",
   "execution_count": 54,
   "metadata": {},
   "outputs": [],
   "source": [
    "def format_str(content):\n",
    "    content_str = ''\n",
    "    for i in content:\n",
    "        if is_chinese(i):\n",
    "            content_str = content_str+i\n",
    "    return content_str"
   ]
  },
  {
   "cell_type": "code",
   "execution_count": 55,
   "metadata": {},
   "outputs": [],
   "source": [
    "t = format_str(str(new))"
   ]
  },
  {
   "cell_type": "code",
   "execution_count": 56,
   "metadata": {},
   "outputs": [
    {
     "data": {
      "text/plain": [
       "145084"
      ]
     },
     "execution_count": 56,
     "metadata": {},
     "output_type": "execute_result"
    }
   ],
   "source": [
    "len(t)"
   ]
  },
  {
   "cell_type": "code",
   "execution_count": 57,
   "metadata": {},
   "outputs": [],
   "source": [
    "new_cut = Counter(jieba.cut(\"\".join(t)))"
   ]
  },
  {
   "cell_type": "code",
   "execution_count": 58,
   "metadata": {},
   "outputs": [
    {
     "data": {
      "text/plain": [
       "[('保险', 5005),\n",
       " ('的', 3220),\n",
       " ('人寿保险', 2962),\n",
       " ('什么', 2675),\n",
       " ('吗', 2479),\n",
       " ('是', 2344),\n",
       " ('我', 2053),\n",
       " ('是否', 1862),\n",
       " ('可以', 1704),\n",
       " ('健康', 1513)]"
      ]
     },
     "execution_count": 58,
     "metadata": {},
     "output_type": "execute_result"
    }
   ],
   "source": [
    "new_cut.most_common(10)"
   ]
  },
  {
   "cell_type": "code",
   "execution_count": 59,
   "metadata": {},
   "outputs": [
    {
     "name": "stdout",
     "output_type": "stream",
     "text": [
      "[('保险', 5005), ('的', 3220), ('人寿保险', 2962), ('什么', 2675), ('吗', 2479), ('是', 2344), ('我', 2053), ('是否', 1862), ('可以', 1704), ('健康', 1513)]\n"
     ]
    }
   ],
   "source": [
    "print(new_cut.most_common()[:10])"
   ]
  },
  {
   "cell_type": "code",
   "execution_count": 60,
   "metadata": {},
   "outputs": [],
   "source": [
    "T = [str(i) for i in new_cut]\n",
    "T_2_gram = [\"\".join(T[i:i+2])for i in range(len(t)-2)]   "
   ]
  },
  {
   "cell_type": "code",
   "execution_count": 61,
   "metadata": {},
   "outputs": [
    {
     "data": {
      "text/plain": [
       "['法律要求', '要求残疾', '残疾保险', '保险吗', '吗债权人', '债权人可以', '可以在', '在死', '死后', '后人寿保险']"
      ]
     },
     "execution_count": 61,
     "metadata": {},
     "output_type": "execute_result"
    }
   ],
   "source": [
    "T_2_gram[:10]"
   ]
  },
  {
   "cell_type": "code",
   "execution_count": 62,
   "metadata": {},
   "outputs": [
    {
     "data": {
      "text/plain": [
       "6.892653809569761e-06"
      ]
     },
     "execution_count": 62,
     "metadata": {},
     "output_type": "execute_result"
    }
   ],
   "source": [
    "prob_2(\"可以\",\"在\",T_2_gram)"
   ]
  },
  {
   "cell_type": "code",
   "execution_count": 63,
   "metadata": {},
   "outputs": [],
   "source": [
    "def generate_best(gram,target,n,language_model=TOKEN_2gram):\n",
    "    sentence = generate_n(gram,target,n)\n",
    "    list = []\n",
    "    for line in sentence :\n",
    "        list.append((line,get_probablity(line)))\n",
    "    sorted(list,key = lambda x:x[1],reverse = True)\n",
    "    print(list)\n",
    "    return list[0]\n",
    "    \n",
    "    "
   ]
  },
  {
   "cell_type": "code",
   "execution_count": 64,
   "metadata": {},
   "outputs": [
    {
     "name": "stdout",
     "output_type": "stream",
     "text": [
      "[('老师们,大家下午好,我是aab,来自建筑学专业,喜欢喝酒,可以认识一下大家吗？', 1.512390245150961e-146), ('老师们,大家早上好,我是xxx,来自应用数学专业,非常喜欢打游戏,现在我要加入这个大家庭。', 6.891915220858062e-159), ('大家早上好,我是aab,来自城乡规划专业,有点喜欢运动,可以认识一下大家吗？', 5.636912467124533e-128), ('大家下午好,我是abb,来自城乡规划专业,有点喜欢运动,现在我要加入这个大家庭。', 3.1525242298805473e-140), ('大家下午好,我是abb,来自应用数学专业,非常喜欢打游戏,可以认识一下大家吗？', 3.4677766528686006e-139)]\n"
     ]
    },
    {
     "data": {
      "text/plain": [
       "('老师们,大家下午好,我是aab,来自建筑学专业,喜欢喝酒,可以认识一下大家吗？', 1.512390245150961e-146)"
      ]
     },
     "execution_count": 64,
     "metadata": {},
     "output_type": "execute_result"
    }
   ],
   "source": [
    "generate_best(gram = create_grammar(student,split = \"=\") ,target = \"student\",n=5)"
   ]
  },
  {
   "cell_type": "markdown",
   "metadata": {},
   "source": [
    "Q: 这个模型有什么问题？ 你准备如何提升？\n",
    "\n",
    "Ans:语法编写的不好，生成句子单一，在generate_best中没有数据处理的环节，如果不是提供已经处理好的数据，会算不出来。计算概率的函数后面为了加入语言模型，多了一个自变量后，运行速度明显下降了很多。编写的也不熟练。打算增加语法的多样性，和学习如何修改可以提高效率。"
   ]
  }
 ],
 "metadata": {
  "kernelspec": {
   "display_name": "Python 3",
   "language": "python",
   "name": "python3"
  },
  "language_info": {
   "codemirror_mode": {
    "name": "ipython",
    "version": 3
   },
   "file_extension": ".py",
   "mimetype": "text/x-python",
   "name": "python",
   "nbconvert_exporter": "python",
   "pygments_lexer": "ipython3",
   "version": "3.7.1"
  },
  "stem_cell": {
   "cell_type": "raw",
   "metadata": {
    "pycharm": {
     "metadata": false
    }
   },
   "source": "# -*-coding:utf-8 -*-\nx = 4\nx\nprint(x)\n\n"
  }
 },
 "nbformat": 4,
 "nbformat_minor": 1
}
