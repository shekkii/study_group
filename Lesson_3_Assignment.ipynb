{
 "cells": [
  {
   "cell_type": "markdown",
   "metadata": {},
   "source": [
    "## Part 1. Review the online programming."
   ]
  },
  {
   "cell_type": "code",
   "execution_count": 1,
   "metadata": {},
   "outputs": [],
   "source": [
    "from collections import defaultdict\n",
    "\n",
    "original_price = [1, 5, 8, 9, 10, 17, 17, 20, 24, 30]"
   ]
  },
  {
   "cell_type": "code",
   "execution_count": 2,
   "metadata": {},
   "outputs": [],
   "source": [
    "price = defaultdict(int)"
   ]
  },
  {
   "cell_type": "code",
   "execution_count": 3,
   "metadata": {},
   "outputs": [],
   "source": [
    "for i,p in enumerate(original_price):\n",
    "    price[i+1] = p "
   ]
  },
  {
   "cell_type": "code",
   "execution_count": 4,
   "metadata": {},
   "outputs": [
    {
     "data": {
      "text/plain": [
       "1"
      ]
     },
     "execution_count": 4,
     "metadata": {},
     "output_type": "execute_result"
    }
   ],
   "source": [
    "price[1]"
   ]
  },
  {
   "cell_type": "code",
   "execution_count": 5,
   "metadata": {},
   "outputs": [
    {
     "data": {
      "text/plain": [
       "0"
      ]
     },
     "execution_count": 5,
     "metadata": {},
     "output_type": "execute_result"
    }
   ],
   "source": [
    "price[1111]"
   ]
  },
  {
   "cell_type": "code",
   "execution_count": 6,
   "metadata": {},
   "outputs": [],
   "source": [
    "called_time_with_arg = defaultdict(int)"
   ]
  },
  {
   "cell_type": "code",
   "execution_count": 7,
   "metadata": {},
   "outputs": [],
   "source": [
    "def get_call_times(f):\n",
    "    result = f()\n",
    "    print(\"function:{} called once!\".format(f.__name__))\n",
    "    called_time[f.__name__] += 1\n",
    "    \n",
    "    return result"
   ]
  },
  {
   "cell_type": "code",
   "execution_count": 8,
   "metadata": {},
   "outputs": [],
   "source": [
    "def r(n):\n",
    "    fname = r.__name__\n",
    "    called_time_with_arg[fname,n] += 1\n",
    "    return max(\n",
    "        [price[n]] + [r(i) + r(n-i) for i in range(1,n)]\n",
    "    )"
   ]
  },
  {
   "cell_type": "code",
   "execution_count": 9,
   "metadata": {},
   "outputs": [
    {
     "data": {
      "text/plain": [
       "43"
      ]
     },
     "execution_count": 9,
     "metadata": {},
     "output_type": "execute_result"
    }
   ],
   "source": [
    "r(15)"
   ]
  },
  {
   "cell_type": "code",
   "execution_count": 10,
   "metadata": {},
   "outputs": [],
   "source": [
    "from collections import Counter"
   ]
  },
  {
   "cell_type": "code",
   "execution_count": 11,
   "metadata": {},
   "outputs": [
    {
     "data": {
      "text/plain": [
       "[(('r', 1), 3188646),\n",
       " (('r', 2), 1062882),\n",
       " (('r', 3), 354294),\n",
       " (('r', 4), 118098),\n",
       " (('r', 5), 39366),\n",
       " (('r', 6), 13122),\n",
       " (('r', 7), 4374),\n",
       " (('r', 8), 1458),\n",
       " (('r', 9), 486),\n",
       " (('r', 10), 162),\n",
       " (('r', 11), 54),\n",
       " (('r', 12), 18),\n",
       " (('r', 13), 6),\n",
       " (('r', 14), 2),\n",
       " (('r', 15), 1)]"
      ]
     },
     "execution_count": 11,
     "metadata": {},
     "output_type": "execute_result"
    }
   ],
   "source": [
    "Counter(called_time_with_arg).most_common()"
   ]
  },
  {
   "cell_type": "code",
   "execution_count": 12,
   "metadata": {},
   "outputs": [],
   "source": [
    "call_time_with_arg = defaultdict(int)\n",
    "def get_call_time(f):\n",
    "    \n",
    "    \"f is a function\"\n",
    "    def wrap(n):\n",
    "        #print(\"I can count!\")\n",
    "        result = f(n)\n",
    "        call_time_with_arg[f.__name__,n] += 1\n",
    "        return result\n",
    "    return wrap"
   ]
  },
  {
   "cell_type": "code",
   "execution_count": 13,
   "metadata": {},
   "outputs": [],
   "source": [
    "@get_call_time\n",
    "def add_ten(n):\n",
    "    return n + 10"
   ]
  },
  {
   "cell_type": "code",
   "execution_count": 14,
   "metadata": {},
   "outputs": [],
   "source": [
    "add_ten = get_call_time(add_ten) "
   ]
  },
  {
   "cell_type": "code",
   "execution_count": 15,
   "metadata": {},
   "outputs": [
    {
     "data": {
      "text/plain": [
       "20"
      ]
     },
     "execution_count": 15,
     "metadata": {},
     "output_type": "execute_result"
    }
   ],
   "source": [
    "add_ten(10)"
   ]
  },
  {
   "cell_type": "code",
   "execution_count": 16,
   "metadata": {},
   "outputs": [
    {
     "data": {
      "text/plain": [
       "defaultdict(int, {('add_ten', 10): 1, ('wrap', 10): 1})"
      ]
     },
     "execution_count": 16,
     "metadata": {},
     "output_type": "execute_result"
    }
   ],
   "source": [
    "call_time_with_arg"
   ]
  },
  {
   "cell_type": "code",
   "execution_count": 17,
   "metadata": {},
   "outputs": [],
   "source": [
    "@get_call_time\n",
    "def r(n):\n",
    "    return max(\n",
    "        [price[n]] + [r(i) + r(n-i) for i in range(1,n)]\n",
    "    )"
   ]
  },
  {
   "cell_type": "code",
   "execution_count": 18,
   "metadata": {},
   "outputs": [
    {
     "data": {
      "text/plain": [
       "35"
      ]
     },
     "execution_count": 18,
     "metadata": {},
     "output_type": "execute_result"
    }
   ],
   "source": [
    "r(12)"
   ]
  },
  {
   "cell_type": "code",
   "execution_count": 19,
   "metadata": {},
   "outputs": [
    {
     "data": {
      "text/plain": [
       "defaultdict(int,\n",
       "            {('add_ten', 10): 1,\n",
       "             ('wrap', 10): 1,\n",
       "             ('r', 1): 118098,\n",
       "             ('r', 2): 39366,\n",
       "             ('r', 3): 13122,\n",
       "             ('r', 4): 4374,\n",
       "             ('r', 5): 1458,\n",
       "             ('r', 6): 486,\n",
       "             ('r', 7): 162,\n",
       "             ('r', 8): 54,\n",
       "             ('r', 9): 18,\n",
       "             ('r', 10): 6,\n",
       "             ('r', 11): 2,\n",
       "             ('r', 12): 1})"
      ]
     },
     "execution_count": 19,
     "metadata": {},
     "output_type": "execute_result"
    }
   ],
   "source": [
    "call_time_with_arg"
   ]
  },
  {
   "cell_type": "code",
   "execution_count": 20,
   "metadata": {},
   "outputs": [],
   "source": [
    "from functools import wraps"
   ]
  },
  {
   "cell_type": "code",
   "execution_count": 21,
   "metadata": {},
   "outputs": [],
   "source": [
    "def memo(f):\n",
    "    already_computed = {}\n",
    "    \n",
    "    @wraps(f)\n",
    "    def _wrap(arg):\n",
    "        result = None\n",
    "        \n",
    "        if arg in already_computed:\n",
    "            result = already_computed[arg]\n",
    "        else :\n",
    "            result = f(arg)\n",
    "            already_computed[arg] = result\n",
    "        return result\n",
    "    return _wrap"
   ]
  },
  {
   "cell_type": "code",
   "execution_count": 22,
   "metadata": {},
   "outputs": [],
   "source": [
    "solution ={}"
   ]
  },
  {
   "cell_type": "code",
   "execution_count": 23,
   "metadata": {},
   "outputs": [],
   "source": [
    "@memo\n",
    "@get_call_time\n",
    "def r(n):\n",
    "    max_price,max_split = max(\n",
    "        [(price[n],0)] + [(r(i) + r(n-i),i) for i in range(1,n)],key = lambda x:x[0]\n",
    "    )\n",
    "    solution[n]=(n-max_split,max_split)\n",
    "    return max_price"
   ]
  },
  {
   "cell_type": "code",
   "execution_count": 24,
   "metadata": {},
   "outputs": [
    {
     "data": {
      "text/plain": [
       "130"
      ]
     },
     "execution_count": 24,
     "metadata": {},
     "output_type": "execute_result"
    }
   ],
   "source": [
    "r(44)"
   ]
  },
  {
   "cell_type": "code",
   "execution_count": 25,
   "metadata": {},
   "outputs": [
    {
     "data": {
      "text/plain": [
       "defaultdict(int,\n",
       "            {('add_ten', 10): 1,\n",
       "             ('wrap', 10): 1,\n",
       "             ('r', 1): 118099,\n",
       "             ('r', 2): 39367,\n",
       "             ('r', 3): 13123,\n",
       "             ('r', 4): 4375,\n",
       "             ('r', 5): 1459,\n",
       "             ('r', 6): 487,\n",
       "             ('r', 7): 163,\n",
       "             ('r', 8): 55,\n",
       "             ('r', 9): 19,\n",
       "             ('r', 10): 7,\n",
       "             ('r', 11): 3,\n",
       "             ('r', 12): 2,\n",
       "             ('r', 13): 1,\n",
       "             ('r', 14): 1,\n",
       "             ('r', 15): 1,\n",
       "             ('r', 16): 1,\n",
       "             ('r', 17): 1,\n",
       "             ('r', 18): 1,\n",
       "             ('r', 19): 1,\n",
       "             ('r', 20): 1,\n",
       "             ('r', 21): 1,\n",
       "             ('r', 22): 1,\n",
       "             ('r', 23): 1,\n",
       "             ('r', 24): 1,\n",
       "             ('r', 25): 1,\n",
       "             ('r', 26): 1,\n",
       "             ('r', 27): 1,\n",
       "             ('r', 28): 1,\n",
       "             ('r', 29): 1,\n",
       "             ('r', 30): 1,\n",
       "             ('r', 31): 1,\n",
       "             ('r', 32): 1,\n",
       "             ('r', 33): 1,\n",
       "             ('r', 34): 1,\n",
       "             ('r', 35): 1,\n",
       "             ('r', 36): 1,\n",
       "             ('r', 37): 1,\n",
       "             ('r', 38): 1,\n",
       "             ('r', 39): 1,\n",
       "             ('r', 40): 1,\n",
       "             ('r', 41): 1,\n",
       "             ('r', 42): 1,\n",
       "             ('r', 43): 1,\n",
       "             ('r', 44): 1})"
      ]
     },
     "execution_count": 25,
     "metadata": {},
     "output_type": "execute_result"
    }
   ],
   "source": [
    "call_time_with_arg"
   ]
  },
  {
   "cell_type": "code",
   "execution_count": 26,
   "metadata": {},
   "outputs": [
    {
     "data": {
      "text/plain": [
       "{1: (1, 0),\n",
       " 2: (2, 0),\n",
       " 3: (3, 0),\n",
       " 4: (2, 2),\n",
       " 5: (3, 2),\n",
       " 6: (6, 0),\n",
       " 7: (6, 1),\n",
       " 8: (6, 2),\n",
       " 9: (6, 3),\n",
       " 10: (10, 0),\n",
       " 11: (10, 1),\n",
       " 12: (10, 2),\n",
       " 13: (10, 3),\n",
       " 14: (12, 2),\n",
       " 15: (13, 2),\n",
       " 16: (10, 6),\n",
       " 17: (16, 1),\n",
       " 18: (16, 2),\n",
       " 19: (16, 3),\n",
       " 20: (10, 10),\n",
       " 21: (20, 1),\n",
       " 22: (20, 2),\n",
       " 23: (20, 3),\n",
       " 24: (22, 2),\n",
       " 25: (23, 2),\n",
       " 26: (20, 6),\n",
       " 27: (26, 1),\n",
       " 28: (26, 2),\n",
       " 29: (26, 3),\n",
       " 30: (20, 10),\n",
       " 31: (30, 1),\n",
       " 32: (30, 2),\n",
       " 33: (30, 3),\n",
       " 34: (32, 2),\n",
       " 35: (33, 2),\n",
       " 36: (30, 6),\n",
       " 37: (36, 1),\n",
       " 38: (36, 2),\n",
       " 39: (36, 3),\n",
       " 40: (30, 10),\n",
       " 41: (40, 1),\n",
       " 42: (40, 2),\n",
       " 43: (40, 3),\n",
       " 44: (42, 2)}"
      ]
     },
     "execution_count": 26,
     "metadata": {},
     "output_type": "execute_result"
    }
   ],
   "source": [
    "solution"
   ]
  },
  {
   "cell_type": "code",
   "execution_count": 27,
   "metadata": {},
   "outputs": [],
   "source": [
    "def parse_solution(n):\n",
    "    left_split,right_split = solution[n]\n",
    "    \n",
    "    if right_split == 0:\n",
    "        return [left_split]\n",
    "    \n",
    "    return parse_solution(left_split) + parse_solution(right_split) "
   ]
  },
  {
   "cell_type": "code",
   "execution_count": 28,
   "metadata": {},
   "outputs": [
    {
     "data": {
      "text/plain": [
       "[10]"
      ]
     },
     "execution_count": 28,
     "metadata": {},
     "output_type": "execute_result"
    }
   ],
   "source": [
    "parse_solution(10)"
   ]
  },
  {
   "cell_type": "code",
   "execution_count": 29,
   "metadata": {},
   "outputs": [
    {
     "data": {
      "text/plain": [
       "[10, 10, 10, 2, 2]"
      ]
     },
     "execution_count": 29,
     "metadata": {},
     "output_type": "execute_result"
    }
   ],
   "source": [
    "parse_solution(34)"
   ]
  },
  {
   "cell_type": "markdown",
   "metadata": {},
   "source": [
    "## Part 2 change loss function from $loss = \\frac{1}{n}\\sum{(y_i - \\hat(y_i))^2}$ to $loss = \\frac{1}{n}\\sum{|y_i - \\hat{y_i}|}$, and using your mathmatical knowledge to get the right partial formual. Implemen the gradient descent code."
   ]
  },
  {
   "cell_type": "code",
   "execution_count": 30,
   "metadata": {},
   "outputs": [],
   "source": [
    "%matplotlib inline"
   ]
  },
  {
   "cell_type": "code",
   "execution_count": 31,
   "metadata": {},
   "outputs": [],
   "source": [
    "import networkx as nx\n",
    "import matplotlib.pyplot as plt\n",
    "import random\n",
    "from sklearn.datasets import load_boston"
   ]
  },
  {
   "cell_type": "code",
   "execution_count": 32,
   "metadata": {},
   "outputs": [],
   "source": [
    "data = load_boston()\n",
    "X, y = data['data'], data['target']"
   ]
  },
  {
   "cell_type": "code",
   "execution_count": 33,
   "metadata": {},
   "outputs": [],
   "source": [
    "def draw_rm_and_price():\n",
    "    plt.scatter(X[:, 5], y)"
   ]
  },
  {
   "cell_type": "code",
   "execution_count": 34,
   "metadata": {},
   "outputs": [
    {
     "data": {
      "image/png": "[encoded data removed]",
      "text/plain": [
       "<Figure size 432x288 with 1 Axes>"
      ]
     },
     "metadata": {
      "needs_background": "light"
     },
     "output_type": "display_data"
    }
   ],
   "source": [
    "draw_rm_and_price()"
   ]
  },
  {
   "cell_type": "code",
   "execution_count": 35,
   "metadata": {},
   "outputs": [],
   "source": [
    "def price(rm, k, b):\n",
    "    return k * rm + b"
   ]
  },
  {
   "cell_type": "code",
   "execution_count": 36,
   "metadata": {},
   "outputs": [],
   "source": [
    "def abs_loss(y,y_hat):\n",
    "    return sum(abs(y_i-y_hat_i) for y_i,y_hat_i in zip(list(y),list(y_hat))) / len(y)\n",
    "    "
   ]
  },
  {
   "cell_type": "code",
   "execution_count": 37,
   "metadata": {},
   "outputs": [
    {
     "data": {
      "text/plain": [
       "1.0"
      ]
     },
     "execution_count": 37,
     "metadata": {},
     "output_type": "execute_result"
    }
   ],
   "source": [
    "abs_loss([1,1,1,1],[-1,-1,1,1])"
   ]
  },
  {
   "cell_type": "code",
   "execution_count": 38,
   "metadata": {},
   "outputs": [],
   "source": [
    "def abs_partial_k(x,y,k,b):\n",
    "    gradient = 0\n",
    "   \n",
    "    for x_i,y_i in zip(list(x),list(y)):\n",
    "        \n",
    "        if y_i-k*x_i-b > 0 :\n",
    "            gradient += -1*x_i\n",
    "        if y_i-k*x_i-b <= 0 :\n",
    "            gradient += x_i\n",
    "    return gradient"
   ]
  },
  {
   "cell_type": "code",
   "execution_count": 39,
   "metadata": {},
   "outputs": [],
   "source": [
    "def abs_partial_b(x,y,k,b):\n",
    "    gradient = 0\n",
    "   \n",
    "    for x_i,y_i in zip(list(x),list(y)):\n",
    "        \n",
    "        if y_i-k*x_i-b > 0 :\n",
    "            gradient += -1\n",
    "        if y_i-k*x_i-b <= 0 :\n",
    "            gradient += 1\n",
    "    return gradient"
   ]
  },
  {
   "cell_type": "code",
   "execution_count": 40,
   "metadata": {},
   "outputs": [
    {
     "name": "stdout",
     "output_type": "stream",
     "text": [
      "when time is :0,get best_k is -47.22539984914982,best_b is 60.750732324440804,and the loss is 258.5764458480743\n",
      "when time is :500,get best_k is -7.219588849149912,best_b is 65.79353232444107,and the loss is 9.423043638832063\n",
      "when time is :1000,get best_k is -6.952109249149854,best_b is 64.09973232444088,and the loss is 9.30681859339148\n",
      "when time is :1500,get best_k is -6.681253249149814,best_b is 62.40873232444125,and the loss is 9.190895023193875\n",
      "when time is :2000,get best_k is -6.405283249149778,best_b is 60.71873232444164,and the loss is 9.07499523831248\n",
      "when time is :2500,get best_k is -6.1293132491497415,best_b is 59.028732324442025,and the loss is 8.95909545343107\n",
      "when time is :3000,get best_k is -5.853343249149705,best_b is 57.33873232444241,and the loss is 8.843195668549676\n",
      "when time is :3500,get best_k is -5.577794449149672,best_b is 55.6487323244428,and the loss is 8.727300541112927\n",
      "when time is :4000,get best_k is -5.323557249149666,best_b is 53.96433232444317,and the loss is 8.61259143092626\n",
      "when time is :4500,get best_k is -5.040573449149661,best_b is 52.296132324443505,and the loss is 8.499429083081619\n"
     ]
    }
   ],
   "source": [
    "X_rm = X[:, 5]\n",
    "trying_time = 5000\n",
    "min_loss = float(\"inf\")\n",
    "\n",
    "k_direction ,b_direction = 0,0\n",
    "\n",
    "current_k = random.random()*200 - 100\n",
    "    \n",
    "current_b = random.random()*200 - 100\n",
    "\n",
    "learning_rate = 0.0001\n",
    "\n",
    "for i in range (trying_time):\n",
    "    \n",
    "    price_by_k_and_b = [price(r,current_k,current_b) for r in X_rm]\n",
    "    \n",
    "    \n",
    "    current_loss = abs_loss(y,price_by_k_and_b)\n",
    "    \n",
    "    if current_loss < min_loss:\n",
    "        min_loss = current_loss\n",
    "        if i % 500 == 0:\n",
    "          print(\"when time is :{},get best_k is {},best_b is {},and the loss is {}\".format(i,current_k,current_b,min_loss))   \n",
    "    \n",
    "    k_gradient = abs_partial_k(X_rm,y,current_k,current_b)\n",
    "    \n",
    "    b_gradient = abs_partial_b(X_rm,y,current_k,current_b)\n",
    "    \n",
    "    current_k = current_k + (-1 * k_gradient) * learning_rate\n",
    "    \n",
    "    current_b = current_b + (-1 * b_gradient) * learning_rate"
   ]
  },
  {
   "cell_type": "code",
   "execution_count": 41,
   "metadata": {},
   "outputs": [
    {
     "data": {
      "text/plain": [
       "<matplotlib.collections.PathCollection at 0xad62ef0>"
      ]
     },
     "execution_count": 41,
     "metadata": {},
     "output_type": "execute_result"
    },
    {
     "data": {
      "image/png": "[encoded data removed]",
      "text/plain": [
       "<Figure size 432x288 with 1 Axes>"
      ]
     },
     "metadata": {
      "needs_background": "light"
     },
     "output_type": "display_data"
    }
   ],
   "source": [
    "k =  4.140744161541482\n",
    "b = -3.88318737359951\n",
    "price_by_random_k_and_b = [price(r, k, b) for r in X_rm]\n",
    "\n",
    "draw_rm_and_price()\n",
    "plt.scatter(X_rm, price_by_random_k_and_b)"
   ]
  },
  {
   "cell_type": "markdown",
   "metadata": {},
   "source": [
    "## Part 3.Finish the Solution Parse Part of Edit-Distance"
   ]
  },
  {
   "cell_type": "code",
   "execution_count": 1,
   "metadata": {},
   "outputs": [],
   "source": [
    "from functools import lru_cache"
   ]
  },
  {
   "cell_type": "code",
   "execution_count": 125,
   "metadata": {},
   "outputs": [],
   "source": [
    "solution = {}\n",
    "operation = None\n",
    "\n",
    "@lru_cache(maxsize=2**10)\n",
    "def edit_distance(string1, string2):\n",
    "    \n",
    "    if len(string1) == 0:\n",
    "        solution[(string1, string2)] = (\"\",\"\"),'ADD {}'.format(string2) \n",
    "        return len(string2)\n",
    "    if len(string2) == 0:\n",
    "        solution[(string1, string2)] =(\"\",\"\"),'DEL {}'.format(string1) \n",
    "        return len(string1)\n",
    "    \n",
    "    \n",
    "    tail_s1 = string1[-1]\n",
    "    tail_s2 = string2[-1]\n",
    "    \n",
    "    candidates = [\n",
    "        (edit_distance(string1[:-1], string2) + 1,(string1[:-1], string2) ,'DEL {}'.format(tail_s1)),  # 删除1的最后一个字母\n",
    "        (edit_distance(string1, string2[:-1]) + 1,(string1, string2[:-1]), 'ADD {}'.format(tail_s2)),  # 在1的后面增加2的最后一个字母\n",
    "    ]\n",
    "    \n",
    "    if tail_s1 == tail_s2:\n",
    "        both_forward = (edit_distance(string1[:-1], string2[:-1]) + 0,(string1[:-1], string2[:-1]), '')\n",
    "    else :\n",
    "        both_forward = (edit_distance(string1[:-1], string2[:-1]) + 1, (string1[:-1], string2[:-1]),'SUB {} => {}'.format(tail_s1, tail_s2)) #把1的最后一个字母替换成2的\n",
    "    \n",
    "    candidates.append(both_forward)\n",
    "    \n",
    "    min_distance,(begin,endness),operation = min(candidates, key=lambda x: x[0])\n",
    "\n",
    "    \n",
    "    solution[(string1, string2)] = (begin,endness),operation \n",
    "\n",
    "\n",
    "    return min_distance "
   ]
  },
  {
   "cell_type": "code",
   "execution_count": 126,
   "metadata": {},
   "outputs": [
    {
     "data": {
      "text/plain": [
       "3"
      ]
     },
     "execution_count": 126,
     "metadata": {},
     "output_type": "execute_result"
    }
   ],
   "source": [
    "edit_distance(\"AABB\",\"HAAI\")"
   ]
  },
  {
   "cell_type": "code",
   "execution_count": 127,
   "metadata": {},
   "outputs": [
    {
     "data": {
      "text/plain": [
       "(('AAB', 'HAAI'), 'DEL B')"
      ]
     },
     "execution_count": 127,
     "metadata": {},
     "output_type": "execute_result"
    }
   ],
   "source": [
    "solution[\"AABB\",\"HAAI\"]"
   ]
  },
  {
   "cell_type": "code",
   "execution_count": 128,
   "metadata": {},
   "outputs": [
    {
     "data": {
      "text/plain": [
       "(('AA', 'HAA'), 'SUB B => I')"
      ]
     },
     "execution_count": 128,
     "metadata": {},
     "output_type": "execute_result"
    }
   ],
   "source": [
    "solution[\"AAB\",\"HAAI\"]"
   ]
  },
  {
   "cell_type": "code",
   "execution_count": 129,
   "metadata": {},
   "outputs": [
    {
     "data": {
      "text/plain": [
       "(('A', 'HA'), '')"
      ]
     },
     "execution_count": 129,
     "metadata": {},
     "output_type": "execute_result"
    }
   ],
   "source": [
    "solution[\"AA\",\"HAA\"]"
   ]
  },
  {
   "cell_type": "code",
   "execution_count": 130,
   "metadata": {},
   "outputs": [
    {
     "data": {
      "text/plain": [
       "(('', 'H'), '')"
      ]
     },
     "execution_count": 130,
     "metadata": {},
     "output_type": "execute_result"
    }
   ],
   "source": [
    "solution[\"A\",\"HA\"]"
   ]
  },
  {
   "cell_type": "code",
   "execution_count": 131,
   "metadata": {},
   "outputs": [
    {
     "data": {
      "text/plain": [
       "(('', ''), 'ADD H')"
      ]
     },
     "execution_count": 131,
     "metadata": {},
     "output_type": "execute_result"
    }
   ],
   "source": [
    "solution[\"\",\"H\"]"
   ]
  },
  {
   "cell_type": "code",
   "execution_count": 154,
   "metadata": {},
   "outputs": [],
   "source": [
    "pathes = []\n",
    "def parse_solutions(string1,string2):\n",
    "    x = edit_distance(string1, string2) #运行一遍edit_distance\n",
    "    (begin,endness) = (string1,string2)\n",
    "    \n",
    "    while (begin,endness) != (\"\",\"\"):\n",
    "        (begin,endness),operation = solution[(begin,endness)] #找出每次的operation前一步的2个字符串是什么，用solution回溯\n",
    "        if operation != \"\":\n",
    "            pathes.append(operation) #将每次的操作记录下来，如果不用操作，即末尾字母相同时，不用加入\n",
    "    \n",
    "    return pathes\n"
   ]
  },
  {
   "cell_type": "code",
   "execution_count": 155,
   "metadata": {},
   "outputs": [
    {
     "data": {
      "text/plain": [
       "['DEL u', 'SUB s => w', 'SUB u => h', 'SUB s => w']"
      ]
     },
     "execution_count": 155,
     "metadata": {},
     "output_type": "execute_result"
    }
   ],
   "source": [
    "parse_solutions(\"susu\",\"whw\")"
   ]
  },
  {
   "cell_type": "markdown",
   "metadata": {},
   "source": [
    "## Part 5-1: review machine learning"
   ]
  },
  {
   "cell_type": "markdown",
   "metadata": {},
   "source": [
    "Why do we use Derivative / Gredient to fit a target function?\n",
    "Ans:因为梯度下降的话，每一次的改变都是基于导数的性质，因此每次下降的改变量都基于当前获得的值，它比第二种方法所人为确认的方向精确的 多，使误差下降的也更快。\n",
    "\n",
    "In the words 'Gredient Descent', what's the Gredient and what's the Descent?\n",
    "Ans:梯度在对于含有多个变量的实值函数中，指的是对于每个自变量的偏导，它表示的是关于每个自变量的变化率。下降是指的由于我们是要使算出来 的值（误差）更小，所以我们在每一次调整的时候尽可能的让自变量的变化率趋近于0。\n",
    "\n",
    "What's the advantages of the 3rd gradient descent method compared to the previous methods?\n",
    "Ans:因为每次下降的改变量都基于当前获得的值，它比第二种方法所人为确认的方向精确的多，使误差下降的也更快。\n",
    "\n",
    "Using the simple words to describe: What's the machine leanring.\n",
    "Ans:给定数据和学习方法，使得计算机可以自己去修正结果，并输出我们想要的内容。"
   ]
  },
  {
   "cell_type": "code",
   "execution_count": null,
   "metadata": {},
   "outputs": [],
   "source": []
  }
 ],
 "metadata": {
  "kernelspec": {
   "display_name": "Python 3",
   "language": "python",
   "name": "python3"
  },
  "language_info": {
   "codemirror_mode": {
    "name": "ipython",
    "version": 3
   },
   "file_extension": ".py",
   "mimetype": "text/x-python",
   "name": "python",
   "nbconvert_exporter": "python",
   "pygments_lexer": "ipython3",
   "version": "3.7.1"
  }
 },
 "nbformat": 4,
 "nbformat_minor": 2
}
